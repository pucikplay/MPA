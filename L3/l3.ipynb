{
 "cells": [
  {
   "cell_type": "code",
   "execution_count": 28,
   "metadata": {},
   "outputs": [
    {
     "data": {
      "text/plain": [
       "calcRounds (generic function with 1 method)"
      ]
     },
     "metadata": {},
     "output_type": "display_data"
    }
   ],
   "source": [
    "using DataStructures\n",
    "using Statistics\n",
    "using Distributions\n",
    "using PyPlot\n",
    "\n",
    "include(\"propagation.jl\")"
   ]
  },
  {
   "cell_type": "code",
   "execution_count": 14,
   "metadata": {},
   "outputs": [
    {
     "data": {
      "text/plain": [
       "Edge(4, 5, 0.23576263957037824)\n",
       "Edge(4, 1, 0.3511139690807846)\n",
       "Edge(1, 2, 0.004984313682433128)\n",
       "Edge(1, 6, 0.26240841424979666)\n",
       "Edge(4, 3, 0.5026155114172739)\n"
      ]
     },
     "metadata": {},
     "output_type": "display_data"
    }
   ],
   "source": [
    "n = 6\n",
    "graph = genGraph(n, rand)\n",
    "tree = prim(graph)"
   ]
  },
  {
   "cell_type": "code",
   "execution_count": 15,
   "metadata": {},
   "outputs": [
    {
     "data": {
      "text/plain": [
       "6-element Vector{Vector{Int64}}:\n",
       " [4, 2, 6]\n",
       " [1]\n",
       " [4]\n",
       " [5, 1, 3]\n",
       " [4]\n",
       " [1]"
      ]
     },
     "metadata": {},
     "output_type": "display_data"
    }
   ],
   "source": [
    "adjList = getAdjList(tree)"
   ]
  },
  {
   "cell_type": "code",
   "execution_count": 16,
   "metadata": {},
   "outputs": [
    {
     "data": {
      "text/plain": [
       "TREE(1, Node[Node(1, [4, 2, 6]), Node(2, Int64[]), Node(3, Int64[]), Node(4, [5, 3]), Node(5, Int64[]), Node(6, Int64[])])"
      ]
     },
     "metadata": {},
     "output_type": "display_data"
    }
   ],
   "source": [
    "T = treeTransform(tree, 1, adjList)"
   ]
  },
  {
   "cell_type": "code",
   "execution_count": 29,
   "metadata": {},
   "outputs": [
    {
     "data": {
      "text/plain": [
       "3"
      ]
     },
     "metadata": {},
     "output_type": "display_data"
    }
   ],
   "source": [
    "calcRounds(T)"
   ]
  }
 ],
 "metadata": {
  "kernelspec": {
   "display_name": "Julia 1.9.3",
   "language": "julia",
   "name": "julia-1.9"
  },
  "language_info": {
   "file_extension": ".jl",
   "mimetype": "application/julia",
   "name": "julia",
   "version": "1.9.3"
  }
 },
 "nbformat": 4,
 "nbformat_minor": 2
}
