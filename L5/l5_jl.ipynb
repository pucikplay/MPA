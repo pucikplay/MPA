{
 "cells": [
  {
   "cell_type": "code",
   "execution_count": 1,
   "metadata": {},
   "outputs": [],
   "source": [
    "using Distributions\n",
    "using Base"
   ]
  },
  {
   "cell_type": "code",
   "execution_count": 3,
   "metadata": {},
   "outputs": [],
   "source": [
    "struct Passenger\n",
    "    head::Int\n",
    "    body::Int\n",
    "end\n",
    "\n",
    "struct Plank\n",
    "    wheel::Int\n",
    "end\n",
    "\n",
    "struct Wagon\n",
    "    planks::Vector{Plank}\n",
    "end\n",
    "\n",
    "struct PassengerWagon\n",
    "    wagon::Wagon\n",
    "    passengers::Vector{Passenger}\n",
    "end\n",
    "\n",
    "struct Train\n",
    "    engine::Wagon\n",
    "    wagons::Vector{PassengerWagon}\n",
    "end\n",
    "\n",
    "function _wagonFormat(w::Wagon)\n",
    "    _string = \"(\"\n",
    "    for p in w.planks\n",
    "        _string *= \"$(p.wheel) \"\n",
    "    \n",
    "end\n",
    "\n",
    "function _trainFormat(t::Train)\n",
    "    _string = \"\"\n",
    "\n",
    "    for i in eachindex(t.wagons)\n",
    "        _string *= \"$i: $(_wagonFormat(t.wagons[i])),$(_passengerFormat(t.passengers[i]))\\n\"\n",
    "    end\n",
    "    return _string\n",
    "end\n",
    "\n",
    "Base.show(io::IO, t::Train) = print(io, _trainFormat(t))"
   ]
  },
  {
   "cell_type": "code",
   "execution_count": 4,
   "metadata": {},
   "outputs": [
    {
     "data": {
      "text/plain": [
       "GTr (generic function with 1 method)"
      ]
     },
     "metadata": {},
     "output_type": "display_data"
    }
   ],
   "source": [
    "Seq(x) = 1/(1-x)\n",
    "Cyc(x) = log(Seq(x))\n",
    "Set(x) = x#exp(x)\n",
    "Pa(x) = x#Cyc(x)**2\n",
    "Pl(x) = x#x*x * (1 + Cyc(x))\n",
    "Wa(x) = x#Pl(x) * Seq(Pl(x))\n",
    "Tr(x) = x#Wa(x) * Seq(Wa(x) * Set(Pa(x)))\n",
    "\n",
    "function GCycPa(x)\n",
    "    k = rand(Geometric(1-x)) # TODO log-ser\n",
    "    return k\n",
    "end\n",
    "\n",
    "function GCycWh(x)\n",
    "    p = 1/(1 + Cyc(x))\n",
    "    if rand(Bernoulli(p)) == 1\n",
    "        return 0\n",
    "    end\n",
    "    k = rand(Geometric(1-x)) # TODO log-ser\n",
    "    return k\n",
    "end\n",
    "\n",
    "function GSeqPl(x)\n",
    "    k = rand(Geometric(1-x))\n",
    "    return [GPl(x) for _ in 1:k]\n",
    "end\n",
    "\n",
    "function GSetPa(x)\n",
    "    k = rand(Poisson(x))\n",
    "    return [GPa(x) for _ in 1:k]\n",
    "end\n",
    "\n",
    "function GSeqWaPa(x)\n",
    "    k = rand(Geometric(1-x)) - 1\n",
    "    return [PassengerWagon(GWa(x), GSetPa(x)) for _ in 1:k]\n",
    "end\n",
    "\n",
    "GPa(x) = Passenger(GCycPa(x), GCycPa(x))\n",
    "GPl(x) = Plank(GCycWh(x))\n",
    "GWa(x) = Wagon(GSeqPl(x))\n",
    "GTr(x) = Train(GWa(x), GSeqWaPa(x))"
   ]
  },
  {
   "cell_type": "code",
   "execution_count": 5,
   "metadata": {},
   "outputs": [
    {
     "data": {
      "text/plain": [
       "Train(Wagon(Plank[Plank(0), Plank(9), Plank(0), Plank(0), Plank(0), Plank(4), Plank(0)]), PassengerWagon[PassengerWagon(Wagon(Plank[Plank(0), Plank(4), Plank(0), Plank(0)]), Passenger[Passenger(2, 8)]), PassengerWagon(Wagon(Plank[Plank(0), Plank(1), Plank(0), Plank(2), Plank(21), Plank(2), Plank(0), Plank(3), Plank(0)]), Passenger[]), PassengerWagon(Wagon(Plank[Plank(2), Plank(2)]), Passenger[Passenger(15, 23), Passenger(19, 3), Passenger(1, 2), Passenger(3, 18), Passenger(1, 10)]), PassengerWagon(Wagon(Plank[Plank(4), Plank(7), Plank(0), Plank(7), Plank(1), Plank(0), Plank(0), Plank(11), Plank(7), Plank(0)  …  Plank(1), Plank(0), Plank(0), Plank(0), Plank(7), Plank(0), Plank(0), Plank(0), Plank(9), Plank(1)]), Passenger[]), PassengerWagon(Wagon(Plank[Plank(14), Plank(9)]), Passenger[Passenger(17, 0), Passenger(8, 11)]), PassengerWagon(Wagon(Plank[Plank(0), Plank(1), Plank(6), Plank(20), Plank(3), Plank(0), Plank(21), Plank(2), Plank(5), Plank(0), Plank(11), Plank(3), Plank(18)]), Passenger[]), PassengerWagon(Wagon(Plank[Plank(5), Plank(0), Plank(10), Plank(0), Plank(1), Plank(0), Plank(0), Plank(3), Plank(0), Plank(0), Plank(7), Plank(0), Plank(6), Plank(7), Plank(17), Plank(11), Plank(1), Plank(0), Plank(0), Plank(10)]), Passenger[Passenger(0, 9)]), PassengerWagon(Wagon(Plank[Plank(11), Plank(4), Plank(0), Plank(15)]), Passenger[Passenger(1, 5), Passenger(3, 11)]), PassengerWagon(Wagon(Plank[Plank(14), Plank(0)]), Passenger[Passenger(0, 1), Passenger(2, 22), Passenger(0, 1)]), PassengerWagon(Wagon(Plank[Plank(1), Plank(13), Plank(2), Plank(0), Plank(9), Plank(13), Plank(0), Plank(2), Plank(6), Plank(0), Plank(3), Plank(4), Plank(3), Plank(5), Plank(20), Plank(0), Plank(1)]), Passenger[])])"
      ]
     },
     "metadata": {},
     "output_type": "display_data"
    }
   ],
   "source": [
    "GTr(0.9)"
   ]
  }
 ],
 "metadata": {
  "kernelspec": {
   "display_name": "Julia 1.9.3",
   "language": "julia",
   "name": "julia-1.9"
  },
  "language_info": {
   "file_extension": ".jl",
   "mimetype": "application/julia",
   "name": "julia",
   "version": "1.9.3"
  }
 },
 "nbformat": 4,
 "nbformat_minor": 2
}
