{
 "cells": [
  {
   "cell_type": "code",
   "execution_count": 30,
   "metadata": {},
   "outputs": [
    {
     "data": {
      "text/plain": [
       "sampler (generic function with 1 method)"
      ]
     },
     "metadata": {},
     "output_type": "display_data"
    }
   ],
   "source": [
    "using Distributions\n",
    "include(\"utils.jl\")\n",
    "include(\"logSer.jl\")"
   ]
  },
  {
   "cell_type": "code",
   "execution_count": 2,
   "metadata": {},
   "outputs": [
    {
     "data": {
      "text/plain": [
       "GTr (generic function with 1 method)"
      ]
     },
     "metadata": {},
     "output_type": "display_data"
    }
   ],
   "source": [
    "Seq(x) = 1/(1-x)\n",
    "Cyc(x) = log(Seq(x))\n",
    "Set(x) = x#exp(x)\n",
    "Pa(x) = x#Cyc(x)**2\n",
    "Pl(x) = x#x*x * (1 + Cyc(x))\n",
    "Wa(x) = x#Pl(x) * Seq(Pl(x))\n",
    "Tr(x) = x#Wa(x) * Seq(Wa(x) * Set(Pa(x)))\n",
    "\n",
    "function GCycPa(x)\n",
    "    k = rand(LogSer(x))\n",
    "    return k\n",
    "end\n",
    "\n",
    "function GCycWh(x)\n",
    "    p = 1/(1 + Cyc(x))\n",
    "    if rand(Bernoulli(p)) == 1\n",
    "        return 0\n",
    "    end\n",
    "    k = rand(truncated(LogSer(x), lower=4))\n",
    "    return k\n",
    "end\n",
    "\n",
    "function GSeqPl(x)\n",
    "    p = Pl(x)\n",
    "    k = rand(Geometric(1-p)) + 1\n",
    "    return [GPl(x) for _ in 1:k]\n",
    "end\n",
    "\n",
    "function GSetPa(x)\n",
    "    p = Pa(x)\n",
    "    k = rand(Poisson(p))\n",
    "    return [GPa(x) for _ in 1:k]\n",
    "end\n",
    "\n",
    "function GSeqWaPa(x)\n",
    "    k = rand(Geometric(1-x))\n",
    "    return [PassengerWagon(GWa(x), GSetPa(x)) for _ in 1:k]\n",
    "end\n",
    "\n",
    "GPa(x) = Passenger(GCycPa(x), GCycPa(x))\n",
    "GPl(x) = Plank(GCycWh(x))\n",
    "GWa(x) = Wagon(GSeqPl(x))\n",
    "GTr(x) = Train(GWa(x), GSeqWaPa(x))"
   ]
  },
  {
   "cell_type": "code",
   "execution_count": 34,
   "metadata": {},
   "outputs": [
    {
     "data": {
      "text/plain": [
       "(10,0,30,7,4,0,18,0,0,6,4,10,0,4,0,4,0,16,)\n",
       "1: (8,10,)\n",
       "   ()\n",
       "2: (28,6,8,0,0,0,4,0,0,11,5,4,6,28,5,)\n",
       "   ([2, 2],[3, 1],)\n",
       "3: (11,0,5,7,0,0,4,16,0,4,5,16,21,8,4,4,)\n",
       "   ([3, 1],)\n",
       "4: (10,17,)\n",
       "   ()\n",
       "5: (4,5,0,0,15,0,15,0,14,8,9,6,7,)\n",
       "   ([5, 5],)\n",
       "6: (10,0,0,9,0,)\n",
       "   ([2, 1],[1, 7],[3, 4],)\n"
      ]
     },
     "metadata": {},
     "output_type": "display_data"
    }
   ],
   "source": [
    "GTr(0.9)"
   ]
  },
  {
   "cell_type": "code",
   "execution_count": 32,
   "metadata": {},
   "outputs": [
    {
     "data": {
      "text/plain": [
       "5"
      ]
     },
     "metadata": {},
     "output_type": "display_data"
    }
   ],
   "source": [
    "rand(truncated(LogSer(0.9), lower=4))"
   ]
  }
 ],
 "metadata": {
  "kernelspec": {
   "display_name": "Julia 1.9.3",
   "language": "julia",
   "name": "julia-1.9"
  },
  "language_info": {
   "file_extension": ".jl",
   "mimetype": "application/julia",
   "name": "julia",
   "version": "1.9.3"
  }
 },
 "nbformat": 4,
 "nbformat_minor": 2
}
