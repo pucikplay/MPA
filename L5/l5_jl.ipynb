{
 "cells": [
  {
   "cell_type": "code",
   "execution_count": 1,
   "metadata": {},
   "outputs": [],
   "source": [
    "using Distributions\n",
    "include(\"utils.jl\")"
   ]
  },
  {
   "cell_type": "code",
   "execution_count": 2,
   "metadata": {},
   "outputs": [
    {
     "data": {
      "text/plain": [
       "GTr (generic function with 1 method)"
      ]
     },
     "metadata": {},
     "output_type": "display_data"
    }
   ],
   "source": [
    "Seq(x) = 1/(1-x)\n",
    "Cyc(x) = log(Seq(x))\n",
    "Set(x) = x#exp(x)\n",
    "Pa(x) = x#Cyc(x)**2\n",
    "Pl(x) = x#x*x * (1 + Cyc(x))\n",
    "Wa(x) = x#Pl(x) * Seq(Pl(x))\n",
    "Tr(x) = x#Wa(x) * Seq(Wa(x) * Set(Pa(x)))\n",
    "\n",
    "function GCycPa(x)\n",
    "    k = rand(Geometric(1-x)) # TODO log-ser\n",
    "    return k\n",
    "end\n",
    "\n",
    "function GCycWh(x)\n",
    "    p = 1/(1 + Cyc(x))\n",
    "    if rand(Bernoulli(p)) == 1\n",
    "        return 0\n",
    "    end\n",
    "    k = rand(Geometric(1-x)) # TODO log-ser\n",
    "    return k\n",
    "end\n",
    "\n",
    "function GSeqPl(x)\n",
    "    p = Pl(x)\n",
    "    k = rand(Geometric(1-p)) + 1\n",
    "    return [GPl(x) for _ in 1:k]\n",
    "end\n",
    "\n",
    "function GSetPa(x)\n",
    "    p = Pa(x)\n",
    "    k = rand(Poisson(p))\n",
    "    return [GPa(x) for _ in 1:k]\n",
    "end\n",
    "\n",
    "function GSeqWaPa(x)\n",
    "    k = rand(Geometric(1-x))\n",
    "    return [PassengerWagon(GWa(x), GSetPa(x)) for _ in 1:k]\n",
    "end\n",
    "\n",
    "GPa(x) = Passenger(GCycPa(x), GCycPa(x))\n",
    "GPl(x) = Plank(GCycWh(x))\n",
    "GWa(x) = Wagon(GSeqPl(x))\n",
    "GTr(x) = Train(GWa(x), GSeqWaPa(x))"
   ]
  },
  {
   "cell_type": "code",
   "execution_count": 3,
   "metadata": {},
   "outputs": [
    {
     "data": {
      "text/plain": [
       "(40,5,)\n",
       "1: (0,1,0,2,0,7,13,0,13,2,3,0,0,0,8,4,0,0,0,20,7,0,0,)\n",
       "   ([13, 32],)\n"
      ]
     },
     "metadata": {},
     "output_type": "display_data"
    }
   ],
   "source": [
    "GTr(0.9)"
   ]
  }
 ],
 "metadata": {
  "kernelspec": {
   "display_name": "Julia 1.9.3",
   "language": "julia",
   "name": "julia-1.9"
  },
  "language_info": {
   "file_extension": ".jl",
   "mimetype": "application/julia",
   "name": "julia",
   "version": "1.9.3"
  }
 },
 "nbformat": 4,
 "nbformat_minor": 2
}
