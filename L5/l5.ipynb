{
 "cells": [
  {
   "cell_type": "code",
   "execution_count": 1,
   "metadata": {},
   "outputs": [],
   "source": [
    "from scipy.stats import bernoulli, geom\n",
    "import numpy as np\n",
    "from math import sqrt,log,exp"
   ]
  },
  {
   "cell_type": "markdown",
   "metadata": {},
   "source": [
    "# Ćwiczenie 0\n",
    "\n",
    "Boltzmann Sampler ciągów składających się z liter \"a\" i \"b\""
   ]
  },
  {
   "cell_type": "code",
   "execution_count": 64,
   "metadata": {},
   "outputs": [
    {
     "data": {
      "text/plain": [
       "29.306"
      ]
     },
     "execution_count": 64,
     "metadata": {},
     "output_type": "execute_result"
    }
   ],
   "source": [
    "a = lambda x:x\n",
    "b = lambda x:x\n",
    "d = lambda x:a(x) + b(x)\n",
    "c = lambda x:1/(1 - d(x))\n",
    "Ga = lambda _:'a'\n",
    "Gb = lambda _:'b'\n",
    "\n",
    "def Gd(x):\n",
    "    p = a(x)/d(x)\n",
    "    if bernoulli(p).rvs() == 1:\n",
    "        return Ga(x)\n",
    "    return Gb(x)\n",
    "    \n",
    "def Gc(x):\n",
    "    p = d(x)\n",
    "    if bernoulli(p).rvs() == 1:\n",
    "        return Gd(x) + Gc(x)\n",
    "    return ''\n",
    "\n",
    "# np.mean([len(Gc(145/300)) for _ in range(10000)])\n"
   ]
  },
  {
   "cell_type": "markdown",
   "metadata": {},
   "source": [
    "Boltzmann Sampler drzew Catalana"
   ]
  },
  {
   "cell_type": "code",
   "execution_count": 99,
   "metadata": {},
   "outputs": [
    {
     "data": {
      "text/plain": [
       "[[[[], [], []]]]"
      ]
     },
     "execution_count": 99,
     "metadata": {},
     "output_type": "execute_result"
    }
   ],
   "source": [
    "t = lambda x:(1 - sqrt(1 - 4*x))/2\n",
    "Gt = lambda x:[GSeqt(x)]\n",
    "\n",
    "def GSeqt(x):\n",
    "    p = t(x)\n",
    "    k = geom(1-p).rvs() - 1\n",
    "    if k != 0:\n",
    "        return [Gt(x) * k]\n",
    "    return []\n",
    "\n",
    "Gt((1/4) - (1/10000))"
   ]
  },
  {
   "cell_type": "markdown",
   "metadata": {},
   "source": [
    "# Ćwiczenie 1\n",
    "Equations for each of the train elements"
   ]
  },
  {
   "cell_type": "code",
   "execution_count": null,
   "metadata": {},
   "outputs": [],
   "source": [
    "Seq = lambda x: 1/(1-x)\n",
    "Cyc = lambda x: log(Seq(x))\n",
    "Set = lambda x: exp(x)\n",
    "Pa = lambda x: Cyc(x)**2\n",
    "Pl = lambda x: x*x * (1 + Cyc(x))\n",
    "Wa = lambda x: Pl(x) * Seq(Pl(x))\n",
    "Tr = lambda x: Wa(x) * Seq(Wa(x) * Set(Pa(x)))\n",
    "\n",
    "def GCyc(x):\n",
    "    return x\n",
    "def GSeq(x):\n",
    "    return x\n",
    "def GSet(x):\n",
    "    return x\n",
    "GPa = lambda x: {'head': GCyc(x), 'body': GCyc(x)}\n",
    "GPl = lambda x: {}\n",
    "GWa = lambda x: {'planks': GPl(x)}\n",
    "\n",
    "\n"
   ]
  }
 ],
 "metadata": {
  "kernelspec": {
   "display_name": "Python 3",
   "language": "python",
   "name": "python3"
  },
  "language_info": {
   "codemirror_mode": {
    "name": "ipython",
    "version": 3
   },
   "file_extension": ".py",
   "mimetype": "text/x-python",
   "name": "python",
   "nbconvert_exporter": "python",
   "pygments_lexer": "ipython3",
   "version": "3.10.11"
  }
 },
 "nbformat": 4,
 "nbformat_minor": 2
}
