{
 "cells": [
  {
   "cell_type": "code",
   "execution_count": 52,
   "metadata": {},
   "outputs": [
    {
     "data": {
      "text/plain": [
       "3×3 Matrix{Float64}:\n",
       " 0.0  0.476741  0.00541793\n",
       " 0.0  0.0       0.409727\n",
       " 0.0  0.0       0.0"
      ]
     },
     "metadata": {},
     "output_type": "display_data"
    }
   ],
   "source": [
    "function genGraph(n, dist)\n",
    "    edges = zeros(Float64,(n,n))\n",
    "    for i in 1:n, j in i+1:n\n",
    "        edges[i,j] = dist()\n",
    "    end\n",
    "    return edges\n",
    "end\n",
    "\n",
    "n = 3\n",
    "edges = genGraph(n, rand)\n",
    "\n",
    "display(edges)"
   ]
  },
  {
   "cell_type": "code",
   "execution_count": 57,
   "metadata": {},
   "outputs": [
    {
     "name": "stdout",
     "output_type": "stream",
     "text": [
      "3nothing\n"
     ]
    }
   ],
   "source": [
    "function primMST(edges, n)\n",
    "    pq = PriorityQueue{Tuple{Int, Float64}}()\n",
    "    s = rand(1:n)\n",
    "end\n",
    "\n",
    "primMST(edges, n)"
   ]
  }
 ],
 "metadata": {
  "kernelspec": {
   "display_name": "Julia 1.9.3",
   "language": "julia",
   "name": "julia-1.9"
  },
  "language_info": {
   "file_extension": ".jl",
   "mimetype": "application/julia",
   "name": "julia",
   "version": "1.9.3"
  }
 },
 "nbformat": 4,
 "nbformat_minor": 2
}
