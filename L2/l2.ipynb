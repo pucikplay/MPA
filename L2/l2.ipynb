{
 "cells": [
  {
   "cell_type": "code",
   "execution_count": 8,
   "metadata": {},
   "outputs": [
    {
     "ename": "MethodError",
     "evalue": "MethodError: no method matching push!(::PriorityQueue{Edge, Float64, Base.Order.ForwardOrdering}, ::Edge)\n\nClosest candidates are:\n  push!(::Any, ::Any, !Matched::Any)\n   @ Base abstractarray.jl:3389\n  push!(::Any, ::Any, !Matched::Any, !Matched::Any...)\n   @ Base abstractarray.jl:3390\n  push!(!Matched::Set, ::Any)\n   @ Base set.jl:103\n  ...\n",
     "output_type": "error",
     "traceback": [
      "MethodError: no method matching push!(::PriorityQueue{Edge, Float64, Base.Order.ForwardOrdering}, ::Edge)\n",
      "\n",
      "Closest candidates are:\n",
      "  push!(::Any, ::Any, !Matched::Any)\n",
      "   @ Base abstractarray.jl:3389\n",
      "  push!(::Any, ::Any, !Matched::Any, !Matched::Any...)\n",
      "   @ Base abstractarray.jl:3390\n",
      "  push!(!Matched::Set, ::Any)\n",
      "   @ Base set.jl:103\n",
      "  ...\n",
      "\n",
      "\n",
      "Stacktrace:\n",
      " [1] primAlg(g::Graph)\n",
      "   @ Main c:\\Users\\Pucik\\Documents\\MPA\\L2\\prim.jl:9\n",
      " [2] top-level scope\n",
      "   @ c:\\Users\\Pucik\\Documents\\MPA\\L2\\l2.ipynb:7"
     ]
    }
   ],
   "source": [
    "using DataStructures\n",
    "\n",
    "include(\"graph.jl\")\n",
    "include(\"prim.jl\")\n",
    "include(\"kruskal.jl\")\n",
    "\n",
    "display(primAlg(genGraph(3,rand)))"
   ]
  }
 ],
 "metadata": {
  "kernelspec": {
   "display_name": "Julia 1.9.3",
   "language": "julia",
   "name": "julia-1.9"
  },
  "language_info": {
   "file_extension": ".jl",
   "mimetype": "application/julia",
   "name": "julia",
   "version": "1.9.3"
  }
 },
 "nbformat": 4,
 "nbformat_minor": 2
}
