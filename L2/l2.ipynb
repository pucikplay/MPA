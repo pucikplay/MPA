{
 "cells": [
  {
   "cell_type": "code",
   "execution_count": 2,
   "metadata": {},
   "outputs": [
    {
     "data": {
      "text/plain": [
       "myDist (generic function with 1 method)"
      ]
     },
     "metadata": {},
     "output_type": "display_data"
    }
   ],
   "source": [
    "using DataStructures\n",
    "using Dates\n",
    "\n",
    "include(\"graph.jl\")\n",
    "include(\"prim.jl\")\n",
    "include(\"kruskal.jl\")\n",
    "include(\"utils.jl\")"
   ]
  },
  {
   "cell_type": "code",
   "execution_count": 3,
   "metadata": {},
   "outputs": [
    {
     "name": "stdout",
     "output_type": "stream",
     "text": [
      "10\n",
      "20\n",
      "30"
     ]
    },
    {
     "name": "stdout",
     "output_type": "stream",
     "text": [
      "\n",
      "40\n"
     ]
    },
    {
     "name": "stdout",
     "output_type": "stream",
     "text": [
      "50"
     ]
    },
    {
     "name": "stdout",
     "output_type": "stream",
     "text": [
      "\n",
      "60\n"
     ]
    },
    {
     "name": "stdout",
     "output_type": "stream",
     "text": [
      "70\n"
     ]
    },
    {
     "name": "stdout",
     "output_type": "stream",
     "text": [
      "80"
     ]
    },
    {
     "name": "stdout",
     "output_type": "stream",
     "text": [
      "\n",
      "90\n"
     ]
    },
    {
     "name": "stdout",
     "output_type": "stream",
     "text": [
      "100"
     ]
    },
    {
     "name": "stdout",
     "output_type": "stream",
     "text": [
      "\n"
     ]
    }
   ],
   "source": [
    "nMin = 10\n",
    "nMax = 100\n",
    "step = 10\n",
    "reps = 10\n",
    "\n",
    "N = [n for n in nMin:step:nMax]\n",
    "\n",
    "struct Record\n",
    "    n::Int\n",
    "    time::Int\n",
    "    weight::Float64\n",
    "end\n",
    "\n",
    "recordsPrimUni = Vector{Vector{Record}}()\n",
    "recordsKurskalUni = Vector{Vector{Record}}()\n",
    "\n",
    "recordsPrimMy = Vector{Vector{Record}}()\n",
    "recordsKurskalMy = Vector{Vector{Record}}()\n",
    "\n",
    "for n in N\n",
    "    println(n)\n",
    "    primVectUni = Vector{Record}()\n",
    "    kurskalVectUni = Vector{Record}()\n",
    "    primVectMy = Vector{Record}()\n",
    "    kurskalVectMy = Vector{Record}()\n",
    "    for _ in 1:reps\n",
    "        gUni = genGraph(n, rand)\n",
    "        gMy = genGraph(n, myDist)\n",
    "\n",
    "        start = Int(floor(datetime2unix(now())))\n",
    "        t = prim(gUni)\n",
    "        time = Int(floor(datetime2unix(now()))) - start\n",
    "        push!(primVectUni, Record(n, time, getTreeWeight(t)))\n",
    "\n",
    "        start = Int(floor(datetime2unix(now())))\n",
    "        t = prim(gUni)\n",
    "        time = Int(floor(datetime2unix(now()))) - start\n",
    "        push!(kurskalVectUni, Record(n, time, getTreeWeight(t)))\n",
    "\n",
    "        start = Int(floor(datetime2unix(now())))\n",
    "        t = prim(gMy)\n",
    "        time = Int(floor(datetime2unix(now()))) - start\n",
    "        push!(primVectMy, Record(n, time, getTreeWeight(t)))\n",
    "\n",
    "        start = Int(floor(datetime2unix(now())))\n",
    "        t = prim(gMy)\n",
    "        time = Int(floor(datetime2unix(now()))) - start\n",
    "        push!(kurskalVectMy, Record(n, time, getTreeWeight(t)))\n",
    "    end\n",
    "    push!(recordsPrimUni, primVectUni)\n",
    "    push!(recordsKurskalUni, kurskalVectUni)\n",
    "    push!(recordsPrimMy, primVectMy)\n",
    "    push!(recordsKurskalMy, kurskalVectMy)\n",
    "end"
   ]
  },
  {
   "cell_type": "code",
   "execution_count": 12,
   "metadata": {},
   "outputs": [
    {
     "name": "stdout",
     "output_type": "stream",
     "text": [
      "Record[Record(100, 0, 1.1148048375753516), Record(100, 1, 1.228784982664488), Record(100, 0, 1.3890467288222994), Record(100, 0, 1.4123270515969877), Record(100, 3, 1.2737345781453668), Record(100, 0, 1.1223851251978831), Record(100, 2, 1.5333082502174358), Record(100, 2, 1.4144860818467708), Record(100, 2, 1.328700000944866), Record(100, 0, 1.2523169071879077), Record(100, 2, 1.273487767029044), Record(100, 1, 1.2516894823649976), Record(100, 1, 1.329073743130486), Record(100, 2, 1.2953596271749006), Record(100, 1, 1.222898099318377), Record(100, 2, 1.2543180809659487), Record(100, 2, 1.1935129996761327), Record(100, 7, 1.1118149085316524), Record(100, 2, 1.0733510795228252), Record(100, 0, 1.3229186066585243), Record(100, 1, 1.2154149123677995), Record(100, 0, 1.2396306466123037), Record(100, 1, 1.1373500420699516), Record(100, 1, 1.0786739732838044), Record(100, 2, 1.0517485167501732), Record(100, 0, 1.1364567328780848), Record(100, 0, 1.0328415831053996), Record(100, 0, 1.44472438395481), Record(100, 0, 1.1752732124235155), Record(100, 10, 1.203028064890875), Record(100, 0, 1.2539136087281029), Record(100, 11, 1.3177875290823682), Record(100, 0, 0.9762343473130989), Record(100, 0, 1.405976436033134), Record(100, 0, 1.0943100624677953), Record(100, 1, 1.3463160813012514), Record(100, 0, 1.201414963639007), Record(100, 12, 1.2105801822540228), Record(100, 0, 1.4254272510397334), Record(100, 1, 1.3957735620699196), Record(100, 2, 1.1710071210569717), Record(100, 2, 0.9674745756454078), Record(100, 0, 0.8982467882790728), Record(100, 1, 1.1121013896251066), Record(100, 1, 1.1704823291038484), Record(100, 0, 0.9373180994003164), Record(100, 11, 1.3410982059767957), Record(100, 2, 1.0607210333780146), Record(100, 2, 1.1979424380051866), Record(100, 0, 1.1350200365203955), Record(100, 2, 1.2551250962013583), Record(100, 0, 1.3714646307358331), Record(100, 1, 1.0921782527368125), Record(100, 0, 1.1772122357548946), Record(100, 12, 1.1759317748373177), Record(100, 0, 1.2535223693763404), Record(100, 0, 1.2517004755203238), Record(100, 0, 1.109132083337478), Record(100, 1, 1.1354963977617503), Record(100, 5, 1.267712465504978), Record(100, 1, 1.348526278292822), Record(100, 1, 1.3263293215521021), Record(100, 0, 1.1664501400806162), Record(100, 1, 1.2766197443273026), Record(100, 0, 1.3026073125033342), Record(100, 0, 1.2177452920736673), Record(100, 0, 1.4134689922687955), Record(100, 0, 1.1237007141456796), Record(100, 0, 1.1755172321096095), Record(100, 1, 1.5996204058075836), Record(100, 0, 1.2856589342688434), Record(100, 0, 1.320065790858914), Record(100, 0, 1.2899938769461752), Record(100, 0, 1.0965964717208965), Record(100, 0, 1.3617378064824315), Record(100, 1, 1.1251244592867056), Record(100, 0, 1.0566846859198717), Record(100, 0, 1.3148727712004318), Record(100, 0, 1.287253281319403), Record(100, 0, 0.8732033407326285), Record(100, 11, 1.203066630717161), Record(100, 1, 1.0927901090353453), Record(100, 1, 1.0767039731774113), Record(100, 0, 1.2636687840362821), Record(100, 0, 1.300810813163199), Record(100, 2, 1.4107718656128827), Record(100, 2, 1.2819819940185821), Record(100, 0, 1.0335838607347374), Record(100, 13, 1.278025190459533), Record(100, 1, 1.379675013830543), Record(100, 2, 1.274238644718234), Record(100, 2, 1.2420286544997827), Record(100, 1, 1.1719226514583867), Record(100, 1, 0.9988207940728471), Record(100, 2, 1.300196066826838), Record(100, 1, 1.237713519678938), Record(100, 1, 1.0911206237763684), Record(100, 1, 1.08350545799705), Record(100, 0, 1.2198092957020106), Record(100, 10, 1.1874409987333294)]\n",
      "(0, 13, 1.69, 3.0474198392685703)\n"
     ]
    }
   ],
   "source": [
    "using Statistics\n",
    "\n",
    "function getTimes(records)\n",
    "    times = [r.time for r in records]\n",
    "    minTime = minimum(times)\n",
    "    maxTime = maximum(times)\n",
    "    avgTime = mean(times)\n",
    "    stdDev = std(times)\n",
    "\n",
    "    return (minTime, maxTime, avgTime, stdDev)\n",
    "end\n",
    "\n",
    "println(recordsPrimUni[10])\n",
    "println(getTimes(recordsPrimUni[10]))\n",
    "\n"
   ]
  }
 ],
 "metadata": {
  "kernelspec": {
   "display_name": "Julia 1.9.3",
   "language": "julia",
   "name": "julia-1.9"
  },
  "language_info": {
   "file_extension": ".jl",
   "mimetype": "application/julia",
   "name": "julia",
   "version": "1.9.3"
  }
 },
 "nbformat": 4,
 "nbformat_minor": 2
}
