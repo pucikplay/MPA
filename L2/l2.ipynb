{
 "cells": [
  {
   "cell_type": "code",
   "execution_count": 62,
   "metadata": {},
   "outputs": [
    {
     "data": {
      "text/plain": [
       "4\n",
       "[1, 2, 3, 4]\n",
       "Edge(1, 2, 0.7935876653083669)\n",
       "Edge(1, 3, 0.7625083684658441)\n",
       "Edge(1, 4, 0.07836044441280554)\n",
       "Edge(2, 3, 0.9054705126721923)\n",
       "[Inf, 0.7935876653083669, 0.7625083684658441, 0.07836044441280554]\n",
       "[0.7935876653083669, Inf, 0.9054705126721923, 0.5941161038659996]\n",
       "[0.7625083684658441, 0.9054705126721923, Inf, 0.29839788341913076]\n",
       "[0.07836044441280554, 0.5941161038659996, 0.29839788341913076, Inf]\n"
      ]
     },
     "metadata": {},
     "output_type": "display_data"
    }
   ],
   "source": [
    "using DataStructures\n",
    "\n",
    "include(\"graph.jl\")\n",
    "include(\"prim.jl\")\n",
    "include(\"kruskal.jl\")\n",
    "\n",
    "g = genGraph(4,rand)\n",
    "display(g)\n",
    "t1 = prim(g)\n",
    "t2 = kruskal(g)\n",
    "i = 1\n",
    "while abs(getTreeWeight(t1) - getTreeWeight(t2)) < 0.0001 && i < 1000\n",
    "    i += 1\n",
    "    g = genGraph(4,rand)\n",
    "    t1 = prim(g)\n",
    "    t2 = kruskal(g)\n",
    "end\n"
   ]
  }
 ],
 "metadata": {
  "kernelspec": {
   "display_name": "Julia 1.9.3",
   "language": "julia",
   "name": "julia-1.9"
  },
  "language_info": {
   "file_extension": ".jl",
   "mimetype": "application/julia",
   "name": "julia",
   "version": "1.9.3"
  }
 },
 "nbformat": 4,
 "nbformat_minor": 2
}
