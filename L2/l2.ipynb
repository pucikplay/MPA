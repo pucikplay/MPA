{
 "cells": [
  {
   "cell_type": "code",
   "execution_count": 63,
   "metadata": {},
   "outputs": [
    {
     "data": {
      "text/plain": [
       "4\n",
       "[1, 2, 3, 4]\n",
       "Edge(1, 2, 0.006089198145614039)\n",
       "Edge(1, 3, 0.33537747518818706)\n",
       "Edge(1, 4, 0.013124369315127837)\n",
       "Edge(2, 3, 0.8184832399956681)\n",
       "[Inf, 0.006089198145614039, 0.33537747518818706, 0.013124369315127837]\n",
       "[0.006089198145614039, Inf, 0.8184832399956681, 0.8957950772860234]\n",
       "[0.33537747518818706, 0.8184832399956681, Inf, 0.5657915915758798]\n",
       "[0.013124369315127837, 0.8957950772860234, 0.5657915915758798, Inf]\n"
      ]
     },
     "metadata": {},
     "output_type": "display_data"
    }
   ],
   "source": [
    "using DataStructures\n",
    "\n",
    "include(\"graph.jl\")\n",
    "include(\"prim.jl\")\n",
    "include(\"kruskal.jl\")\n",
    "\n",
    "g = genGraph(4,rand)\n",
    "display(g)\n",
    "t1 = prim(g)\n",
    "t2 = kruskal(g)\n",
    "i = 1\n",
    "while abs(getTreeWeight(t1) - getTreeWeight(t2)) < 0.0001 && i < 1000\n",
    "    i += 1\n",
    "    g = genGraph(4,rand)\n",
    "    t1 = prim(g)\n",
    "    t2 = kruskal(g)\n",
    "end\n"
   ]
  }
 ],
 "metadata": {
  "kernelspec": {
   "display_name": "Julia 1.9.3",
   "language": "julia",
   "name": "julia-1.9"
  },
  "language_info": {
   "file_extension": ".jl",
   "mimetype": "application/julia",
   "name": "julia",
   "version": "1.9.3"
  }
 },
 "nbformat": 4,
 "nbformat_minor": 2
}
