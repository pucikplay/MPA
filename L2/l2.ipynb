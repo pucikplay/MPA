{
 "cells": [
  {
   "cell_type": "code",
   "execution_count": 1,
   "metadata": {},
   "outputs": [
    {
     "data": {
      "text/plain": [
       "myDist (generic function with 1 method)"
      ]
     },
     "metadata": {},
     "output_type": "display_data"
    }
   ],
   "source": [
    "using DataStructures\n",
    "using Dates\n",
    "using BenchmarkTools\n",
    "using Statistics\n",
    "\n",
    "include(\"graph.jl\")\n",
    "include(\"prim.jl\")\n",
    "include(\"kruskal.jl\")\n",
    "include(\"utils.jl\")"
   ]
  },
  {
   "cell_type": "code",
   "execution_count": 12,
   "metadata": {},
   "outputs": [
    {
     "name": "stdout",
     "output_type": "stream",
     "text": [
      "100\n",
      "110"
     ]
    },
    {
     "name": "stdout",
     "output_type": "stream",
     "text": [
      "\n",
      "120\n",
      "130\n"
     ]
    },
    {
     "name": "stdout",
     "output_type": "stream",
     "text": [
      "140\n"
     ]
    },
    {
     "name": "stdout",
     "output_type": "stream",
     "text": [
      "150\n"
     ]
    },
    {
     "name": "stdout",
     "output_type": "stream",
     "text": [
      "160"
     ]
    },
    {
     "name": "stdout",
     "output_type": "stream",
     "text": [
      "\n",
      "170\n"
     ]
    },
    {
     "name": "stdout",
     "output_type": "stream",
     "text": [
      "180\n"
     ]
    },
    {
     "name": "stdout",
     "output_type": "stream",
     "text": [
      "190\n",
      "200"
     ]
    },
    {
     "name": "stdout",
     "output_type": "stream",
     "text": [
      "\n"
     ]
    },
    {
     "name": "stdout",
     "output_type": "stream",
     "text": [
      "210"
     ]
    },
    {
     "name": "stdout",
     "output_type": "stream",
     "text": [
      "\n",
      "220\n"
     ]
    },
    {
     "name": "stdout",
     "output_type": "stream",
     "text": [
      "230\n"
     ]
    },
    {
     "name": "stdout",
     "output_type": "stream",
     "text": [
      "240\n"
     ]
    },
    {
     "name": "stdout",
     "output_type": "stream",
     "text": [
      "250\n"
     ]
    },
    {
     "name": "stdout",
     "output_type": "stream",
     "text": [
      "260\n"
     ]
    },
    {
     "name": "stdout",
     "output_type": "stream",
     "text": [
      "270\n"
     ]
    },
    {
     "name": "stdout",
     "output_type": "stream",
     "text": [
      "280"
     ]
    },
    {
     "name": "stdout",
     "output_type": "stream",
     "text": [
      "\n",
      "290\n"
     ]
    },
    {
     "name": "stdout",
     "output_type": "stream",
     "text": [
      "300\n"
     ]
    },
    {
     "name": "stdout",
     "output_type": "stream",
     "text": [
      "310\n"
     ]
    },
    {
     "name": "stdout",
     "output_type": "stream",
     "text": [
      "320\n"
     ]
    },
    {
     "name": "stdout",
     "output_type": "stream",
     "text": [
      "330"
     ]
    },
    {
     "name": "stdout",
     "output_type": "stream",
     "text": [
      "\n",
      "340\n"
     ]
    },
    {
     "name": "stdout",
     "output_type": "stream",
     "text": [
      "350"
     ]
    },
    {
     "name": "stdout",
     "output_type": "stream",
     "text": [
      "\n",
      "360\n"
     ]
    },
    {
     "name": "stdout",
     "output_type": "stream",
     "text": [
      "370"
     ]
    },
    {
     "name": "stdout",
     "output_type": "stream",
     "text": [
      "\n",
      "380\n"
     ]
    },
    {
     "name": "stdout",
     "output_type": "stream",
     "text": [
      "390"
     ]
    },
    {
     "name": "stdout",
     "output_type": "stream",
     "text": [
      "\n",
      "400\n"
     ]
    },
    {
     "name": "stdout",
     "output_type": "stream",
     "text": [
      "410"
     ]
    },
    {
     "name": "stdout",
     "output_type": "stream",
     "text": [
      "\n",
      "420\n"
     ]
    },
    {
     "name": "stdout",
     "output_type": "stream",
     "text": [
      "430\n"
     ]
    },
    {
     "name": "stdout",
     "output_type": "stream",
     "text": [
      "440\n"
     ]
    },
    {
     "name": "stdout",
     "output_type": "stream",
     "text": [
      "450\n"
     ]
    },
    {
     "name": "stdout",
     "output_type": "stream",
     "text": [
      "460\n"
     ]
    },
    {
     "name": "stdout",
     "output_type": "stream",
     "text": [
      "470\n"
     ]
    },
    {
     "name": "stdout",
     "output_type": "stream",
     "text": [
      "480"
     ]
    },
    {
     "name": "stdout",
     "output_type": "stream",
     "text": [
      "\n",
      "490\n"
     ]
    },
    {
     "name": "stdout",
     "output_type": "stream",
     "text": [
      "500\n"
     ]
    },
    {
     "name": "stdout",
     "output_type": "stream",
     "text": [
      "510\n"
     ]
    },
    {
     "name": "stdout",
     "output_type": "stream",
     "text": [
      "520\n"
     ]
    },
    {
     "name": "stdout",
     "output_type": "stream",
     "text": [
      "530"
     ]
    },
    {
     "name": "stdout",
     "output_type": "stream",
     "text": [
      "\n",
      "540\n"
     ]
    },
    {
     "name": "stdout",
     "output_type": "stream",
     "text": [
      "550"
     ]
    },
    {
     "name": "stdout",
     "output_type": "stream",
     "text": [
      "\n",
      "560\n"
     ]
    },
    {
     "name": "stdout",
     "output_type": "stream",
     "text": [
      "570\n"
     ]
    },
    {
     "name": "stdout",
     "output_type": "stream",
     "text": [
      "580\n"
     ]
    },
    {
     "name": "stdout",
     "output_type": "stream",
     "text": [
      "590"
     ]
    },
    {
     "name": "stdout",
     "output_type": "stream",
     "text": [
      "\n",
      "600\n"
     ]
    },
    {
     "name": "stdout",
     "output_type": "stream",
     "text": [
      "610\n"
     ]
    },
    {
     "name": "stdout",
     "output_type": "stream",
     "text": [
      "620\n"
     ]
    },
    {
     "name": "stdout",
     "output_type": "stream",
     "text": [
      "630\n"
     ]
    },
    {
     "name": "stdout",
     "output_type": "stream",
     "text": [
      "640\n"
     ]
    },
    {
     "name": "stdout",
     "output_type": "stream",
     "text": [
      "650\n"
     ]
    },
    {
     "name": "stdout",
     "output_type": "stream",
     "text": [
      "660\n"
     ]
    },
    {
     "name": "stdout",
     "output_type": "stream",
     "text": [
      "670\n"
     ]
    },
    {
     "name": "stdout",
     "output_type": "stream",
     "text": [
      "680"
     ]
    },
    {
     "name": "stdout",
     "output_type": "stream",
     "text": [
      "\n",
      "690\n"
     ]
    },
    {
     "name": "stdout",
     "output_type": "stream",
     "text": [
      "700"
     ]
    },
    {
     "name": "stdout",
     "output_type": "stream",
     "text": [
      "\n",
      "710"
     ]
    },
    {
     "name": "stdout",
     "output_type": "stream",
     "text": [
      "\n",
      "720"
     ]
    },
    {
     "name": "stdout",
     "output_type": "stream",
     "text": [
      "\n",
      "730\n"
     ]
    },
    {
     "name": "stdout",
     "output_type": "stream",
     "text": [
      "740\n"
     ]
    },
    {
     "name": "stdout",
     "output_type": "stream",
     "text": [
      "750\n"
     ]
    },
    {
     "name": "stdout",
     "output_type": "stream",
     "text": [
      "760\n"
     ]
    },
    {
     "name": "stdout",
     "output_type": "stream",
     "text": [
      "770\n"
     ]
    },
    {
     "name": "stdout",
     "output_type": "stream",
     "text": [
      "780\n"
     ]
    },
    {
     "name": "stdout",
     "output_type": "stream",
     "text": [
      "790"
     ]
    },
    {
     "name": "stdout",
     "output_type": "stream",
     "text": [
      "\n",
      "800\n"
     ]
    },
    {
     "name": "stdout",
     "output_type": "stream",
     "text": [
      "810\n"
     ]
    },
    {
     "name": "stdout",
     "output_type": "stream",
     "text": [
      "820\n"
     ]
    },
    {
     "name": "stdout",
     "output_type": "stream",
     "text": [
      "830"
     ]
    },
    {
     "name": "stdout",
     "output_type": "stream",
     "text": [
      "\n",
      "840\n"
     ]
    },
    {
     "name": "stdout",
     "output_type": "stream",
     "text": [
      "850\n"
     ]
    },
    {
     "name": "stdout",
     "output_type": "stream",
     "text": [
      "860\n"
     ]
    },
    {
     "name": "stdout",
     "output_type": "stream",
     "text": [
      "870\n"
     ]
    },
    {
     "name": "stdout",
     "output_type": "stream",
     "text": [
      "880\n"
     ]
    },
    {
     "name": "stdout",
     "output_type": "stream",
     "text": [
      "890"
     ]
    },
    {
     "name": "stdout",
     "output_type": "stream",
     "text": [
      "\n",
      "900\n"
     ]
    },
    {
     "name": "stdout",
     "output_type": "stream",
     "text": [
      "910"
     ]
    },
    {
     "name": "stdout",
     "output_type": "stream",
     "text": [
      "\n",
      "920\n"
     ]
    },
    {
     "name": "stdout",
     "output_type": "stream",
     "text": [
      "930\n"
     ]
    },
    {
     "name": "stdout",
     "output_type": "stream",
     "text": [
      "940\n"
     ]
    },
    {
     "name": "stdout",
     "output_type": "stream",
     "text": [
      "950\n"
     ]
    },
    {
     "name": "stdout",
     "output_type": "stream",
     "text": [
      "960"
     ]
    },
    {
     "name": "stdout",
     "output_type": "stream",
     "text": [
      "\n",
      "970\n"
     ]
    },
    {
     "name": "stdout",
     "output_type": "stream",
     "text": [
      "980\n"
     ]
    },
    {
     "name": "stdout",
     "output_type": "stream",
     "text": [
      "990\n"
     ]
    },
    {
     "name": "stdout",
     "output_type": "stream",
     "text": [
      "1000"
     ]
    },
    {
     "name": "stdout",
     "output_type": "stream",
     "text": [
      "\n"
     ]
    }
   ],
   "source": [
    "nMin = 100\n",
    "nMax = 1000\n",
    "step = 10\n",
    "reps = 10\n",
    "\n",
    "N = [n for n in nMin:step:nMax]\n",
    "\n",
    "struct Record\n",
    "    n::Int\n",
    "    time::Float64\n",
    "    weight::Float64\n",
    "end\n",
    "\n",
    "recordsPrimUni = Vector{Vector{Record}}()\n",
    "recordsKurskalUni = Vector{Vector{Record}}()\n",
    "\n",
    "recordsPrimMy = Vector{Vector{Record}}()\n",
    "recordsKurskalMy = Vector{Vector{Record}}()\n",
    "\n",
    "for n in N\n",
    "    println(n)\n",
    "    primVectUni = Vector{Record}()\n",
    "    kurskalVectUni = Vector{Record}()\n",
    "    primVectMy = Vector{Record}()\n",
    "    kurskalVectMy = Vector{Record}()\n",
    "    for _ in 1:reps\n",
    "        gUni = genGraph(n, rand)\n",
    "        gMy = genGraph(n, myDist)\n",
    "        time = @elapsed t = prim(gUni)\n",
    "        push!(primVectUni, Record(n, time, getTreeWeight(t)))\n",
    "\n",
    "        time = @elapsed t = prim(gUni)\n",
    "        push!(kurskalVectUni, Record(n, time, getTreeWeight(t)))\n",
    "\n",
    "        time = @elapsed t = prim(gMy)\n",
    "        push!(primVectMy, Record(n, time, getTreeWeight(t)))\n",
    "\n",
    "        time = @elapsed t = prim(gMy)\n",
    "        push!(kurskalVectMy, Record(n, time, getTreeWeight(t)))\n",
    "    end\n",
    "    push!(recordsPrimUni, primVectUni)\n",
    "    push!(recordsKurskalUni, kurskalVectUni)\n",
    "    push!(recordsPrimMy, primVectMy)\n",
    "    push!(recordsKurskalMy, kurskalVectMy)\n",
    "end"
   ]
  },
  {
   "cell_type": "code",
   "execution_count": 13,
   "metadata": {},
   "outputs": [
    {
     "data": {
      "text/plain": [
       "91-element Vector{NTuple{4, Float64}}:\n",
       " (0.0013005, 0.0016018, 0.0014077499999999997, 9.41947893109451e-5)\n",
       " (0.0014757, 0.0077387, 0.0022175100000000002, 0.0019415210929406186)\n",
       " (0.0018036, 0.002304, 0.00193552, 0.0001515629374220492)\n",
       " (0.0020325, 0.0023612, 0.00214581, 9.44552269008385e-5)\n",
       " (0.002431, 0.0034463, 0.0027366600000000006, 0.0003272363271059278)\n",
       " (0.0028101, 0.0063405, 0.004007439999999999, 0.0012322353375516834)\n",
       " (0.0038721, 0.004393, 0.0040337, 0.0001512878859804858)\n",
       " (0.0041748, 0.0077296, 0.00469937, 0.0010824050926319384)\n",
       " (0.0044907, 0.0079596, 0.00506325, 0.0010315576843352538)\n",
       " (0.0049358, 0.008402, 0.005522589999999999, 0.0010428782739770417)\n",
       " ⋮\n",
       " (0.1807426, 0.1925858, 0.18687288999999999, 0.004321793435716238)\n",
       " (0.1819818, 0.1935163, 0.18879147999999996, 0.003527806970909834)\n",
       " (0.1871782, 0.2170335, 0.1970289, 0.008681668593203858)\n",
       " (0.1896095, 0.2452869, 0.19965806, 0.01623915934997184)\n",
       " (0.1926307, 0.2184204, 0.20032761, 0.007583788434761494)\n",
       " (0.1968009, 0.2963527, 0.21561105, 0.029833416946372596)\n",
       " (0.2000632, 0.225227, 0.20883663000000002, 0.0073147708514347915)\n",
       " (0.2089152, 0.2146375, 0.21189518000000002, 0.001855956383467387)\n",
       " (0.2099927, 0.2202187, 0.2154438, 0.0033576469267098986)"
      ]
     },
     "metadata": {},
     "output_type": "display_data"
    }
   ],
   "source": [
    "function getTimes(records)\n",
    "    times = [r.time for r in records]\n",
    "    minTime = minimum(times)\n",
    "    maxTime = maximum(times)\n",
    "    avgTime = mean(times)\n",
    "    stdDev = std(times)\n",
    "\n",
    "    return (minTime, maxTime, avgTime, stdDev)\n",
    "end\n",
    "\n",
    "timesPrimUni = [getTimes(recordsPrimUni[i]) for i in 1:length(N)]\n",
    "timesKurskalUni = [getTimes(recordsKurskalUni[i]) for i in 1:length(N)]\n",
    "timesPrimMy = [getTimes(recordsPrimMy[i]) for i in 1:length(N)]\n",
    "timesKurskalMy = [getTimes(recordsKurskalMy[i]) for i in 1:length(N)]"
   ]
  },
  {
   "cell_type": "code",
   "execution_count": 17,
   "metadata": {},
   "outputs": [
    {
     "data": {
      "image/png": "[encoded data removed]",
      "text/plain": [
       "Figure(PyObject <Figure size 640x480 with 1 Axes>)"
      ]
     },
     "metadata": {},
     "output_type": "display_data"
    }
   ],
   "source": [
    "using PyPlot\n",
    "\n",
    "plot(N[1:50],[t[3] for t in timesPrimUni][1:50], label=\"PrimUni\")\n",
    "plot(N[1:50],[t[3] for t in timesKurskalUni][1:50], label=\"KurskalUni\")\n",
    "plot(N[1:50],[t[3] for t in timesPrimMy][1:50], label=\"mean\")\n",
    "plot(N[1:50],[t[3] for t in timesKurskalMy][1:50], label=\"std\")\n",
    "legend()\n",
    "display(gcf())\n",
    "clf()"
   ]
  }
 ],
 "metadata": {
  "kernelspec": {
   "display_name": "Julia 1.9.3",
   "language": "julia",
   "name": "julia-1.9"
  },
  "language_info": {
   "file_extension": ".jl",
   "mimetype": "application/julia",
   "name": "julia",
   "version": "1.9.3"
  }
 },
 "nbformat": 4,
 "nbformat_minor": 2
}
