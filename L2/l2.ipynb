{
 "cells": [
  {
   "cell_type": "code",
   "execution_count": 7,
   "metadata": {},
   "outputs": [
    {
     "ename": "TypeError",
     "evalue": "TypeError: in PriorityQueue, in O, expected O<:Base.Order.Ordering, got a value of type typeof(edgeOrder)",
     "output_type": "error",
     "traceback": [
      "TypeError: in PriorityQueue, in O, expected O<:Base.Order.Ordering, got a value of type typeof(edgeOrder)\n",
      "\n",
      "Stacktrace:\n",
      " [1] primAlg(g::Graph)\n",
      "   @ Main c:\\Users\\Pucik\\Documents\\MPA\\L2\\prim.jl:6\n",
      " [2] top-level scope\n",
      "   @ c:\\Users\\Pucik\\Documents\\MPA\\L2\\l2.ipynb:7"
     ]
    }
   ],
   "source": [
    "using DataStructures\n",
    "\n",
    "include(\"graph.jl\")\n",
    "include(\"prim.jl\")\n",
    "include(\"kruskal.jl\")\n",
    "\n",
    "display(primAlg(genGraph(3,rand)))"
   ]
  }
 ],
 "metadata": {
  "kernelspec": {
   "display_name": "Julia 1.9.3",
   "language": "julia",
   "name": "julia-1.9"
  },
  "language_info": {
   "file_extension": ".jl",
   "mimetype": "application/julia",
   "name": "julia",
   "version": "1.9.3"
  }
 },
 "nbformat": 4,
 "nbformat_minor": 2
}
