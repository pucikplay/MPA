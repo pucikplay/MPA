{
 "cells": [
  {
   "cell_type": "code",
   "execution_count": 3,
   "metadata": {},
   "outputs": [
    {
     "data": {
      "text/plain": [
       "3\n",
       "[1, 2, 3]\n",
       "Edge(1, 2, 0.12646844784901423)\n",
       "Edge(1, 3, 0.9108766214664711)\n",
       "Edge(2, 3, 0.7011515179073293)\n",
       "[Inf, 0.12646844784901423, 0.9108766214664711]\n",
       "[0.12646844784901423, Inf, 0.7011515179073293]\n",
       "[0.9108766214664711, 0.7011515179073293, Inf]\n"
      ]
     },
     "metadata": {},
     "output_type": "display_data"
    }
   ],
   "source": [
    "include(\"graph.jl\")\n",
    "include(\"prim.jl\")\n",
    "include(\"kruskal.jl\")\n",
    "\n",
    "display(genGraph(3,rand))"
   ]
  }
 ],
 "metadata": {
  "kernelspec": {
   "display_name": "Julia 1.9.3",
   "language": "julia",
   "name": "julia-1.9"
  },
  "language_info": {
   "file_extension": ".jl",
   "mimetype": "application/julia",
   "name": "julia",
   "version": "1.9.3"
  }
 },
 "nbformat": 4,
 "nbformat_minor": 2
}
